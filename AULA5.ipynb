{
  "nbformat": 4,
  "nbformat_minor": 0,
  "metadata": {
    "colab": {
      "provenance": [],
      "authorship_tag": "ABX9TyPhmxXJIY171RNmWJbZHgHn",
      "include_colab_link": true
    },
    "kernelspec": {
      "name": "python3",
      "display_name": "Python 3"
    },
    "language_info": {
      "name": "python"
    }
  },
  "cells": [
    {
      "cell_type": "markdown",
      "metadata": {
        "id": "view-in-github",
        "colab_type": "text"
      },
      "source": [
        "<a href=\"https://colab.research.google.com/github/pedriTToH/estudos/blob/main/AULA5.ipynb\" target=\"_parent\"><img src=\"https://colab.research.google.com/assets/colab-badge.svg\" alt=\"Open In Colab\"/></a>"
      ]
    },
    {
      "cell_type": "code",
      "execution_count": 6,
      "metadata": {
        "colab": {
          "base_uri": "https://localhost:8080/"
        },
        "id": "jefIio1LZ_RM",
        "outputId": "2f0c578f-d41c-49bf-d843-575a1195349d"
      },
      "outputs": [
        {
          "output_type": "stream",
          "name": "stdout",
          "text": [
            "10\n"
          ]
        }
      ],
      "source": [
        "\n",
        "#UNINASSAU\n",
        "#DOCENTE :CLOVES\n",
        "#ESTUDANTES: PEDRO HENRIQUE, ANDRE LUIS\n",
        "#TIPOS PRIMITIVOS DE DADOS-PYTHON\n",
        "\n",
        "#print(\"PEDRO E ANDRE\")\n",
        "#c = 10\n",
        "#print(type(c))"
      ]
    },
    {
      "cell_type": "code",
      "source": [
        "#operadores aritmeticos-python\n",
        "#10+1\n",
        "\n",
        "#5//2\n",
        "c=2**3\n",
        "print(type(c))"
      ],
      "metadata": {
        "colab": {
          "base_uri": "https://localhost:8080/"
        },
        "id": "670JUUJnbsl7",
        "outputId": "90abd8a6-cee2-4558-a6cf-9a721445d7d0"
      },
      "execution_count": 12,
      "outputs": [
        {
          "output_type": "stream",
          "name": "stdout",
          "text": [
            "<class 'int'>\n"
          ]
        }
      ]
    },
    {
      "cell_type": "code",
      "source": [
        "matricula= input (\"digite sua matricula.\")\n",
        "print ('sua matricula é ' + matricula)"
      ],
      "metadata": {
        "colab": {
          "base_uri": "https://localhost:8080/"
        },
        "id": "fQTngrEefCSb",
        "outputId": "6e122988-a87f-47cd-cec8-d3d811c78f56"
      },
      "execution_count": 15,
      "outputs": [
        {
          "output_type": "stream",
          "name": "stdout",
          "text": [
            "digite sua matricula.123\n",
            "sua matricula é 123\n"
          ]
        }
      ]
    }
  ]
}